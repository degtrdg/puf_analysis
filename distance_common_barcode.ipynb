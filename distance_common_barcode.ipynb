{
 "cells": [
  {
   "cell_type": "code",
   "execution_count": null,
   "metadata": {},
   "outputs": [],
   "source": [
    "from os import listdir\n",
    "from os.path import isfile, join\n",
    "import pandas as pd\n",
    "import seaborn as sns\n",
    "import matplotlib.pyplot as plt\n",
    "import numpy as np\n",
    "pd.set_option('display.max_colwidth', None)"
   ]
  },
  {
   "cell_type": "markdown",
   "metadata": {},
   "source": []
  },
  {
   "cell_type": "code",
   "execution_count": 3,
   "metadata": {},
   "outputs": [],
   "source": [
    "from os import listdir\n",
    "from os.path import isfile, join\n",
    "import pandas as pd\n",
    "import seaborn as sns\n",
    "import matplotlib.pyplot as plt\n",
    "import numpy as np\n",
    "pd.set_option('display.max_colwidth', None)"
   ]
  },
  {
   "cell_type": "code",
   "execution_count": 4,
   "metadata": {},
   "outputs": [],
   "source": [
    "def bc(df_s1,df_s2):\n",
    "    diff = abs(df_s1 - df_s2)\n",
    "    sm = df_s1 + df_s2\n",
    "    bc = diff.sum()/sm.sum()\n",
    "    return bc "
   ]
  },
  {
   "cell_type": "code",
   "execution_count": null,
   "metadata": {},
   "outputs": [],
   "source": [
    "# Keep a set for all unique barcodes in the top 50 for each file\n",
    "all_barcodes = set()\n",
    "#barcode indel combo\n",
    "files_barcode = [f'./Step6_Barcode_Norm/{f}' for f in listdir('./Step6_Barcode_Norm/') if isfile(join('./Step6_Barcode_Norm/', f))]\n",
    "for file_barcode in files_barcode:\n",
    "    print(file_barcode[file_barcode.rfind('/')+1:])\n",
    "    # Read in the barcode file as a dataframe\n",
    "    # The first row is the header. First column is 'barcode', second column is 'count', third column is 'normalized'\n",
    "    df_barcode = pd.read_csv(file_barcode, sep='\\t', header=0)\n",
    "    # Set the index to be the barcode\n",
    "    df_barcode = df_barcode.set_index('barcode')\n",
    "    # Get the top 50 barcodes\n",
    "    df_barcode_top = df_barcode.nlargest(50, 'normalized')\n",
    "    # Add the barcodes to the set\n",
    "    all_barcodes.update(df_barcode_top.index)"
   ]
  },
  {
   "cell_type": "code",
   "execution_count": null,
   "metadata": {},
   "outputs": [],
   "source": [
    "import math\n",
    "\n",
    "# Get all file names in Step8\n",
    "samples = [f[:f.find('.fastq')] for f in listdir('./Step8/') if isfile(join('./Step8/', f)) and f.find(\"R1\") != -1]\n",
    "samples.sort()\n",
    "\n",
    "# Read in the files and create frequency tables\n",
    "freq_tables = {}\n",
    "for id in samples:\n",
    "    barcode_indel_frq = pd.read_csv(f'./Step8/{id}.fastq', header=None).value_counts()\n",
    "    barcode_indel_frq = barcode_indel_frq/len(pd.read_csv(f'./Step5/{id}.fastq', header=None).index)*1000000\n",
    "    barcode_indel_frq.index = barcode_indel_frq.index.map(lambda x: x[0])\n",
    "    # Go through the index and remove any entries that don't have barcodes in the top 50\n",
    "    for index in barcode_indel_frq.index:\n",
    "        # Get barcode from index. It is the first 5 characters\n",
    "        barcode = index[:5]\n",
    "        if barcode not in all_barcodes:\n",
    "            barcode_indel_frq = barcode_indel_frq.drop(index)\n",
    "    freq_tables[id] = barcode_indel_frq\n",
    "\n",
    "frames = []\n",
    "names = []\n",
    "\n",
    "for percent in range(20, 25, 5):\n",
    "    names.append(f'{percent}%')\n",
    "\n",
    "    # Make matrix of 0's using the index of barcode_indel_frq1_filtered_r1\n",
    "    matrix_r1 = pd.DataFrame(0, index=samples, columns=samples)\n",
    "\n",
    "    for id in matrix_r1.index:\n",
    "        for col in matrix_r1.columns:\n",
    "            # Get the frequency tables for each sample\n",
    "            barcode_indel_frq1 = freq_tables[id]\n",
    "            barcode_indel_frq2 = freq_tables[col]\n",
    "\n",
    "            # Filter based on percent\n",
    "            barcode_indel_frq1_filtered_r1 = barcode_indel_frq1[0:math.floor(len(barcode_indel_frq1)*percent*0.01)]\n",
    "            barcode_indel_frq2_filtered_r1 = barcode_indel_frq2.loc[barcode_indel_frq1_filtered_r1.index.intersection(barcode_indel_frq2.index)]\n",
    "\n",
    "            # Add 0 to the missing values\n",
    "            only_frq1 = barcode_indel_frq1_filtered_r1.index.difference(barcode_indel_frq2_filtered_r1.index)\n",
    "            new_index = pd.Index([index for index in barcode_indel_frq2_filtered_r1.index] + [index for index in only_frq1])\n",
    "            barcode_indel_frq2_filtered_r1 = pd.Series(np.append(barcode_indel_frq2_filtered_r1.values,np.zeros(len(only_frq1))),index=new_index)\n",
    "            barcode_indel_frq2_filtered_r1 = barcode_indel_frq2_filtered_r1.reindex(barcode_indel_frq1_filtered_r1.index)\n",
    "\n",
    "            # Calculate the BC distance\n",
    "            matrix_r1.loc[id, col] = bc(barcode_indel_frq1_filtered_r1,barcode_indel_frq2_filtered_r1)\n",
    "\n",
    "    frames.append(matrix_r1)"
   ]
  }
 ],
 "metadata": {
  "kernelspec": {
   "display_name": "base",
   "language": "python",
   "name": "python3"
  },
  "language_info": {
   "codemirror_mode": {
    "name": "ipython",
    "version": 3
   },
   "file_extension": ".py",
   "mimetype": "text/x-python",
   "name": "python",
   "nbconvert_exporter": "python",
   "pygments_lexer": "ipython3",
   "version": "3.9.15"
  },
  "orig_nbformat": 4
 },
 "nbformat": 4,
 "nbformat_minor": 2
}
